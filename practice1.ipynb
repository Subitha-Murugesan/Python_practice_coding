{
 "cells": [
  {
   "cell_type": "code",
   "execution_count": 2,
   "id": "04128659",
   "metadata": {},
   "outputs": [
    {
     "data": {
      "text/plain": [
       "'H'"
      ]
     },
     "execution_count": 2,
     "metadata": {},
     "output_type": "execute_result"
    }
   ],
   "source": [
    "a=\"Hello World\"\n",
    "#indexing\n",
    "a[0]"
   ]
  },
  {
   "cell_type": "code",
   "execution_count": 3,
   "id": "af0f3e6e",
   "metadata": {},
   "outputs": [
    {
     "data": {
      "text/plain": [
       "11"
      ]
     },
     "execution_count": 3,
     "metadata": {},
     "output_type": "execute_result"
    }
   ],
   "source": [
    "#length\n",
    "len(a)"
   ]
  },
  {
   "cell_type": "code",
   "execution_count": 4,
   "id": "588728ee",
   "metadata": {},
   "outputs": [
    {
     "data": {
      "text/plain": [
       "'dlroW olleH'"
      ]
     },
     "execution_count": 4,
     "metadata": {},
     "output_type": "execute_result"
    }
   ],
   "source": [
    "#slicing\n",
    "a[::-1]"
   ]
  },
  {
   "cell_type": "code",
   "execution_count": 5,
   "id": "d74c8274",
   "metadata": {},
   "outputs": [
    {
     "data": {
      "text/plain": [
       "'el'"
      ]
     },
     "execution_count": 5,
     "metadata": {},
     "output_type": "execute_result"
    }
   ],
   "source": [
    "a[1:5:2]"
   ]
  },
  {
   "cell_type": "code",
   "execution_count": 6,
   "id": "71fb78f8",
   "metadata": {},
   "outputs": [
    {
     "data": {
      "text/plain": [
       "'hello worldWOOWWW'"
      ]
     },
     "execution_count": 6,
     "metadata": {},
     "output_type": "execute_result"
    }
   ],
   "source": [
    "#string concatenation\n",
    "\"hello world\" +\"WOOWWW\""
   ]
  },
  {
   "cell_type": "code",
   "execution_count": 7,
   "id": "9f7ff4f0",
   "metadata": {},
   "outputs": [
    {
     "data": {
      "text/plain": [
       "'zzzzzzzzzz'"
      ]
     },
     "execution_count": 7,
     "metadata": {},
     "output_type": "execute_result"
    }
   ],
   "source": [
    "#string Multiplication\n",
    "'z'*10"
   ]
  },
  {
   "cell_type": "code",
   "execution_count": 10,
   "id": "bd0fd8ae",
   "metadata": {},
   "outputs": [
    {
     "data": {
      "text/plain": [
       "['Hello', 'World']"
      ]
     },
     "execution_count": 10,
     "metadata": {},
     "output_type": "execute_result"
    }
   ],
   "source": [
    "a.upper()\n",
    "a.lower()\n",
    "a.split()"
   ]
  },
  {
   "cell_type": "code",
   "execution_count": 14,
   "id": "57dfa71a",
   "metadata": {},
   "outputs": [
    {
     "name": "stdout",
     "output_type": "stream",
     "text": [
      "the value of the strinhgs are hello 'hi' 23    27.9091\n",
      "the string hello 'heee' 11.99   23.98990\n",
      "the string djbfj 'hello' 12   23.89899\n"
     ]
    }
   ],
   "source": [
    "#string interpolation\n",
    "print(\"the value of the strinhgs are %s %r %d %10.4f\"%('hello','hi',23.988,27.909090))\n",
    "#.format\n",
    "print(\"the string {0} {1} {2} {3:10.5f}\".format(\"hello\", repr(\"heee\"),11.99, 23.9898988))\n",
    "#f- string literals\n",
    "print(f\"the string {'djbfj'} {'hello'!r} {12} {23.8989898:10.5f}\")"
   ]
  },
  {
   "cell_type": "code",
   "execution_count": 15,
   "id": "c96a73b1",
   "metadata": {},
   "outputs": [
    {
     "name": "stdout",
     "output_type": "stream",
     "text": [
      "the string hello 'dhgfj' 12   23.90909\n",
      "the format are hello 'dhgf' 55   23.09091\n",
      "the format is  dhjbf'dsjfb'23  23.09091\n"
     ]
    }
   ],
   "source": [
    "#string interpolation\n",
    "print(\"the string %s %r %d %10.5f\"%('hello','dhgfj',12.44,23.90909090))\n",
    "print(\"the format are {0} {1} {2} {3:10.5f}\".format(\"hello\",repr(\"dhgf\"),55,23.090909090))\n",
    "print(f\"the format is  {'dhjbf'}{'dsjfb'!r}{23}{23.09090900900:10.5f}\")"
   ]
  },
  {
   "cell_type": "code",
   "execution_count": 25,
   "id": "9010262a",
   "metadata": {},
   "outputs": [
    {
     "data": {
      "text/plain": [
       "[4, 2, 1]"
      ]
     },
     "execution_count": 25,
     "metadata": {},
     "output_type": "execute_result"
    }
   ],
   "source": [
    "#lists\n",
    "mylist=[1,\"hello\",[1,2,3]]\n",
    "mylist[1]\n",
    "mylist[2]=[\"he\",\"she\"]\n",
    "mylist\n",
    "\n",
    "mylist.append(['hs'])\n",
    "mylist.pop()\n",
    "mylist.pop(0)\n",
    "\n",
    "mylist =[1,4,2]\n",
    "mylist.sort()\n",
    "mylist1=mylist\n",
    "mylist1\n",
    "\n",
    "mylist.reverse()\n",
    "mylist2=mylist\n",
    "mylist2"
   ]
  },
  {
   "cell_type": "code",
   "execution_count": 28,
   "id": "387d35b2",
   "metadata": {},
   "outputs": [
    {
     "data": {
      "text/plain": [
       "dict_items([(1, 'hello'), (2, [1, 3, 4]), (3, {1: 4})])"
      ]
     },
     "execution_count": 28,
     "metadata": {},
     "output_type": "execute_result"
    }
   ],
   "source": [
    "#dict\n",
    "a={1:\"hello\",2:[1,3,4],3:{1:4}}\n",
    "a.keys()\n",
    "a.values()\n",
    "\n",
    "a.items()"
   ]
  },
  {
   "cell_type": "code",
   "execution_count": 29,
   "id": "79212f05",
   "metadata": {},
   "outputs": [
    {
     "name": "stdout",
     "output_type": "stream",
     "text": [
      "ghh 22\n"
     ]
    }
   ],
   "source": [
    "def dictname(name,age):\n",
    "    print(name,age)\n",
    "\n",
    "d={'name':\"ghh\",\"age\":22}\n",
    "\n",
    "dictname(**d)"
   ]
  },
  {
   "cell_type": "code",
   "execution_count": 36,
   "id": "4f6bfe1b",
   "metadata": {},
   "outputs": [
    {
     "data": {
      "text/plain": [
       "('hrll', [1, 3, 3])"
      ]
     },
     "execution_count": 36,
     "metadata": {},
     "output_type": "execute_result"
    }
   ],
   "source": [
    "#tuple\n",
    "a=(1,\"hrll\",[1,3,3])\n",
    "a[2]\n",
    "a.index(1)\n",
    "a.count(1)\n",
    "a[1:3]"
   ]
  },
  {
   "cell_type": "code",
   "execution_count": 45,
   "id": "71ed8634",
   "metadata": {},
   "outputs": [
    {
     "data": {
      "text/plain": [
       "{1, 2, 4}"
      ]
     },
     "execution_count": 45,
     "metadata": {},
     "output_type": "execute_result"
    }
   ],
   "source": [
    "#set\n",
    "myset=set()\n",
    "myset.add(1)\n",
    "myset\n",
    "myset={1,2,2,2,2,2,2,2,4}\n",
    "myset"
   ]
  },
  {
   "cell_type": "code",
   "execution_count": 48,
   "id": "553edca9",
   "metadata": {},
   "outputs": [
    {
     "name": "stdout",
     "output_type": "stream",
     "text": [
      "Writing mytxt.txt\n"
     ]
    }
   ],
   "source": [
    "%%writefile mytxt.txt\n",
    "\"hello welcome\"\n",
    "\"hii vellll\""
   ]
  },
  {
   "cell_type": "code",
   "execution_count": 52,
   "id": "1038e3b8",
   "metadata": {},
   "outputs": [
    {
     "data": {
      "text/plain": [
       "['\"hello welcome\"\\n', '\"hii vellll\"\\n']"
      ]
     },
     "execution_count": 52,
     "metadata": {},
     "output_type": "execute_result"
    }
   ],
   "source": [
    "myfile=open(\"mytxt.txt\")\n",
    "myfile.read()\n",
    "myfile.seek(0)\n",
    "myfile.readlines()"
   ]
  },
  {
   "cell_type": "code",
   "execution_count": 59,
   "id": "7b71a9a7",
   "metadata": {},
   "outputs": [
    {
     "name": "stdout",
     "output_type": "stream",
     "text": [
      "fdhgkfhgfdhgkfhgfdhgkfhg\n"
     ]
    }
   ],
   "source": [
    "with open('mytxt.txt','r') as f:\n",
    "    print(f.read())"
   ]
  },
  {
   "cell_type": "code",
   "execution_count": 54,
   "id": "da757352",
   "metadata": {},
   "outputs": [
    {
     "name": "stdout",
     "output_type": "stream",
     "text": [
      "\n"
     ]
    }
   ],
   "source": [
    "with open('mytxt.txt','w+') as f:\n",
    "    f.write(\"fdhgkfhg\")\n",
    "    print(f.read())"
   ]
  },
  {
   "cell_type": "code",
   "execution_count": 58,
   "id": "a9ffbef9",
   "metadata": {},
   "outputs": [],
   "source": [
    "with open('mytxt.txt','a') as f:\n",
    "    f.write(\"fdhgkfhg\")"
   ]
  },
  {
   "cell_type": "code",
   "execution_count": 61,
   "id": "1c855d5d",
   "metadata": {},
   "outputs": [
    {
     "data": {
      "text/plain": [
       "2.0"
      ]
     },
     "execution_count": 61,
     "metadata": {},
     "output_type": "execute_result"
    }
   ],
   "source": [
    "#square root \n",
    "4**0.5"
   ]
  },
  {
   "cell_type": "code",
   "execution_count": 65,
   "id": "473aa227",
   "metadata": {},
   "outputs": [
    {
     "data": {
      "text/plain": [
       "False"
      ]
     },
     "execution_count": 65,
     "metadata": {},
     "output_type": "execute_result"
    }
   ],
   "source": [
    "#comparision operator\n",
    "1<2 or 3>5\n",
    "1<3 and 3>5\n",
    "\n",
    "1<3 and not 3<5\n",
    "1!=1"
   ]
  },
  {
   "cell_type": "code",
   "execution_count": 66,
   "id": "df0d9353",
   "metadata": {},
   "outputs": [
    {
     "data": {
      "text/plain": [
       "[0, 2, 4, 6, 8]"
      ]
     },
     "execution_count": 66,
     "metadata": {},
     "output_type": "execute_result"
    }
   ],
   "source": [
    "#useful operator\n",
    "#range\n",
    "list(range(0,10,2))"
   ]
  },
  {
   "cell_type": "code",
   "execution_count": null,
   "id": "16c5e5aa",
   "metadata": {},
   "outputs": [
    {
     "name": "stdout",
     "output_type": "stream",
     "text": [
      "(0, 'h')\n",
      "(1, 'e')\n",
      "(2, 'l')\n",
      "(3, 'l')\n",
      "(4, 'l')\n",
      "(5, 'o')\n"
     ]
    }
   ],
   "source": [
    "#enumerate - python builtin function which keeps track of all the indexes and its values\n",
    "for i in enumerate(\"helllo\"):\n",
    "    print(i)\n"
   ]
  },
  {
   "cell_type": "code",
   "execution_count": null,
   "id": "b9ba091e",
   "metadata": {},
   "outputs": [
    {
     "name": "stdout",
     "output_type": "stream",
     "text": [
      "(1, 2)\n",
      "(2, 4)\n",
      "(3, 5)\n"
     ]
    }
   ],
   "source": [
    "#zip combine any number of lists\n",
    "#zip always considers the shortest one and ignores the rest\n",
    "for i in zip([1,2,3],[2,4,5,6]):\n",
    "    print(i)"
   ]
  },
  {
   "cell_type": "code",
   "execution_count": 71,
   "id": "67440f7a",
   "metadata": {},
   "outputs": [
    {
     "data": {
      "text/plain": [
       "True"
      ]
     },
     "execution_count": 71,
     "metadata": {},
     "output_type": "execute_result"
    }
   ],
   "source": [
    "#in \n",
    "\n",
    "\"z\" in \"sdwz\"\n",
    "1 in [1,2,3]\n",
    "\"mykey\" in {'mykey':1}"
   ]
  },
  {
   "cell_type": "code",
   "execution_count": 73,
   "id": "f730b337",
   "metadata": {},
   "outputs": [
    {
     "data": {
      "text/plain": [
       "7"
      ]
     },
     "execution_count": 73,
     "metadata": {},
     "output_type": "execute_result"
    }
   ],
   "source": [
    "#min max\n",
    "min(2,3,3)\n",
    "max(3,6,7)"
   ]
  },
  {
   "cell_type": "code",
   "execution_count": 74,
   "id": "a4ad3856",
   "metadata": {},
   "outputs": [
    {
     "data": {
      "text/plain": [
       "[3, 2, 1]"
      ]
     },
     "execution_count": 74,
     "metadata": {},
     "output_type": "execute_result"
    }
   ],
   "source": [
    "#shufffle\n",
    "from random import shuffle\n",
    "mylist =[1,2,3]\n",
    "shuffle(mylist)\n",
    "mylist"
   ]
  },
  {
   "cell_type": "code",
   "execution_count": 75,
   "id": "175eed9b",
   "metadata": {},
   "outputs": [
    {
     "data": {
      "text/plain": [
       "87"
      ]
     },
     "execution_count": 75,
     "metadata": {},
     "output_type": "execute_result"
    }
   ],
   "source": [
    "from random import randint\n",
    "randint(1,100)"
   ]
  },
  {
   "cell_type": "code",
   "execution_count": 77,
   "id": "a48fb390",
   "metadata": {},
   "outputs": [],
   "source": [
    "#grab user input\n",
    "a=int(input(\"entert the number\"))\n",
    "b=input(\"enter the input\")"
   ]
  },
  {
   "cell_type": "code",
   "execution_count": 78,
   "id": "a3016faf",
   "metadata": {},
   "outputs": [
    {
     "name": "stdout",
     "output_type": "stream",
     "text": [
      "['1', '2']\n"
     ]
    }
   ],
   "source": [
    "a=input(\"enter the input\").split()\n",
    "print(a)"
   ]
  },
  {
   "cell_type": "code",
   "execution_count": 81,
   "id": "6f5ba482",
   "metadata": {},
   "outputs": [
    {
     "name": "stdout",
     "output_type": "stream",
     "text": [
      "not known\n"
     ]
    }
   ],
   "source": [
    "#python statements\n",
    "a=1\n",
    "a=2\n",
    "a=3\n",
    "if a==1:\n",
    "    print(a)\n",
    "elif a==2:\n",
    "    print(a)\n",
    "else:\n",
    "    print(\"not known\")"
   ]
  },
  {
   "cell_type": "code",
   "execution_count": 84,
   "id": "666c91a2",
   "metadata": {},
   "outputs": [
    {
     "name": "stdout",
     "output_type": "stream",
     "text": [
      "0\n",
      "1\n",
      "2\n"
     ]
    }
   ],
   "source": [
    "#for loops \n",
    "for i in range(0,len([1,2,3])):\n",
    "    print(i)"
   ]
  },
  {
   "cell_type": "code",
   "execution_count": 87,
   "id": "645dd932",
   "metadata": {},
   "outputs": [
    {
     "name": "stdout",
     "output_type": "stream",
     "text": [
      "1 2\n",
      "3 4\n",
      "5 6\n",
      "k1 1\n",
      "k2 2\n",
      "k3 3\n"
     ]
    }
   ],
   "source": [
    "#tuple unpacking\n",
    "mylist=[(1,2),(3,4),(5,6)]\n",
    "for (i, j) in mylist:\n",
    "    print(i,j)\n",
    "d={'k1':1,'k2':2,'k3':3}\n",
    "for key,value in d.items():\n",
    "    print(key,value)"
   ]
  },
  {
   "cell_type": "code",
   "execution_count": 97,
   "id": "5a524cd8",
   "metadata": {},
   "outputs": [
    {
     "data": {
      "text/plain": [
       "[2]"
      ]
     },
     "execution_count": 97,
     "metadata": {},
     "output_type": "execute_result"
    }
   ],
   "source": [
    "#list comprehension\n",
    "mylist=[x for x in \"hello\"]\n",
    "mylist\n",
    "mylist=[x for x in range(0,10)]\n",
    "mylist\n",
    "mylist=[x**2 for x in range(0,10,2)]\n",
    "mylist\n",
    "\n",
    "mylist=[x if x==1 else \"no\" for x in [1,2,2]]\n",
    "mylist\n",
    "\n",
    "mylist=[x*y for x in range(0,5) for y in range(0,3)]\n",
    "mylist\n",
    "\n",
    "\n",
    "mylist=[x for x in [1,2,3] if x%2==0]\n",
    "mylist"
   ]
  },
  {
   "cell_type": "code",
   "execution_count": null,
   "id": "b846ec34",
   "metadata": {},
   "outputs": [
    {
     "name": "stdout",
     "output_type": "stream",
     "text": [
      "0\n",
      "1\n",
      "2\n",
      "3\n",
      "4\n",
      "done\n"
     ]
    }
   ],
   "source": [
    "#while loop\n",
    "a=0\n",
    "while a<5:\n",
    "    print(a)\n",
    "    a+=1\n",
    "else:\n",
    "    print(\"done\")"
   ]
  },
  {
   "cell_type": "code",
   "execution_count": 108,
   "id": "9b0bb15d",
   "metadata": {},
   "outputs": [
    {
     "name": "stdout",
     "output_type": "stream",
     "text": [
      "2\n"
     ]
    }
   ],
   "source": [
    "#break, continue, pass\n",
    "for i in [1,2,3]:\n",
    "    if i==3:\n",
    "        break\n",
    "    elif i==1:\n",
    "        continue\n",
    "    else:\n",
    "        pass\n",
    "    print(i)\n",
    "\n"
   ]
  },
  {
   "cell_type": "code",
   "execution_count": null,
   "id": "8ee9f859",
   "metadata": {},
   "outputs": [
    {
     "data": {
      "text/plain": [
       "[1, 2, 4]"
      ]
     },
     "execution_count": 109,
     "metadata": {},
     "output_type": "execute_result"
    }
   ],
   "source": [
    "#sort and sorted\n",
    "\n",
    "mylist1=[1,4,2]\n",
    "mylist1.sort()\n",
    "mylist1"
   ]
  },
  {
   "cell_type": "code",
   "execution_count": 114,
   "id": "a97ab3f5",
   "metadata": {},
   "outputs": [
    {
     "name": "stdout",
     "output_type": "stream",
     "text": [
      "[1, 5, 6]\n"
     ]
    },
    {
     "data": {
      "text/plain": [
       "[1, 6, 5]"
      ]
     },
     "execution_count": 114,
     "metadata": {},
     "output_type": "execute_result"
    }
   ],
   "source": [
    "mylist=[1,6,5]\n",
    "print(sorted(mylist))\n",
    "mylist"
   ]
  },
  {
   "cell_type": "code",
   "execution_count": 115,
   "id": "a5fa710c",
   "metadata": {},
   "outputs": [
    {
     "data": {
      "text/plain": [
       "'hello'"
      ]
     },
     "execution_count": 115,
     "metadata": {},
     "output_type": "execute_result"
    }
   ],
   "source": [
    "#function\n",
    "\n",
    "def myfunc(name):\n",
    "    return name\n",
    "\n",
    "myfunc(\"hello\")"
   ]
  },
  {
   "cell_type": "code",
   "execution_count": 133,
   "id": "035635d1",
   "metadata": {},
   "outputs": [
    {
     "name": "stdout",
     "output_type": "stream",
     "text": [
      "10\n",
      "Hello Alice\n",
      "Hello Bob\n",
      "Hello Charlie\n"
     ]
    }
   ],
   "source": [
    "#args and Kwargs - without defining the parameters, we can send any number of arguments to the function\n",
    "\n",
    "def sum(*args):\n",
    "    return __builtins__.sum(args)\n",
    "\n",
    "print(sum(1, 2, 3, 4))  # Output: 10\n",
    "# Output: 10\n",
    "\n",
    "def greet(*args):\n",
    "    for name in args:\n",
    "        print(\"Hello\", name)\n",
    "\n",
    "greet(\"Alice\", \"Bob\", \"Charlie\")\n"
   ]
  },
  {
   "cell_type": "code",
   "execution_count": 136,
   "id": "b3dd15f6",
   "metadata": {},
   "outputs": [
    {
     "name": "stdout",
     "output_type": "stream",
     "text": [
      "{'fruits': 'banana'}\n"
     ]
    }
   ],
   "source": [
    "#kwargs\n",
    "\n",
    "def keyss(**kwargs):\n",
    "    print(kwargs)\n",
    "\n",
    "keyss(fruits='banana')"
   ]
  },
  {
   "cell_type": "code",
   "execution_count": null,
   "id": "1aba93d1",
   "metadata": {},
   "outputs": [
    {
     "data": {
      "text/plain": [
       "1"
      ]
     },
     "execution_count": 140,
     "metadata": {},
     "output_type": "execute_result"
    }
   ],
   "source": [
    "#lambda expression - shorter version of the function\n",
    "\n",
    "square =lambda n:n*2\n",
    "\n",
    "square(2)\n",
    "\n",
    "s = lambda n,m : n*m if n==m else None\n",
    "s(1,1)"
   ]
  },
  {
   "cell_type": "code",
   "execution_count": null,
   "id": "82f23d2c",
   "metadata": {},
   "outputs": [
    {
     "data": {
      "text/plain": [
       "[2, 4, 6]"
      ]
     },
     "execution_count": 142,
     "metadata": {},
     "output_type": "execute_result"
    }
   ],
   "source": [
    "#map \n",
    "\n",
    "list(map(square, [1,2,3]))\n"
   ]
  },
  {
   "cell_type": "code",
   "execution_count": 143,
   "id": "0e4b4015",
   "metadata": {},
   "outputs": [
    {
     "data": {
      "text/plain": [
       "[2]"
      ]
     },
     "execution_count": 143,
     "metadata": {},
     "output_type": "execute_result"
    }
   ],
   "source": [
    "#filter \n",
    "list(filter(lambda n: n if n%2==0 else None , [1,2,3]))"
   ]
  },
  {
   "cell_type": "code",
   "execution_count": 144,
   "id": "68f6611a",
   "metadata": {},
   "outputs": [
    {
     "name": "stdout",
     "output_type": "stream",
     "text": [
      "10\n",
      "9\n"
     ]
    }
   ],
   "source": [
    "#scope is LEGB rule - Local, enclosed , global and builtin\n",
    "\n",
    "a=10\n",
    "print(a)\n",
    "\n",
    "def g():\n",
    "    a=9\n",
    "    print(a)\n",
    "\n",
    "g()"
   ]
  },
  {
   "cell_type": "code",
   "execution_count": 146,
   "id": "594ec22e",
   "metadata": {},
   "outputs": [
    {
     "name": "stdout",
     "output_type": "stream",
     "text": [
      "10 4347701840\n",
      "9\n",
      "15\n"
     ]
    }
   ],
   "source": [
    "a=10\n",
    "print(a,id(a))\n",
    "\n",
    "def g():\n",
    "    a=9\n",
    "    print(a)\n",
    "    globals()['a']=15\n",
    "\n",
    "g()\n",
    "print(a)"
   ]
  },
  {
   "cell_type": "code",
   "execution_count": 147,
   "id": "a9bfcd7c",
   "metadata": {},
   "outputs": [],
   "source": [
    "#object oriented programming\n",
    "\n",
    "#object - state , behaviour\n",
    "#to define the state - variables are used that is called attributes (characteristisc)\n",
    "#to define the behaviour functions are used that is methods\n",
    "\n",
    "#class is like blueprint or template to stoore objects attributes and methods\n",
    "#object is a instance of the class\n",
    "#constructor is used to initialise object specific information , this is automatically called when creating an object\n",
    "#Instance variable is specific to each variables\n",
    "#class variables is the common for all objects created\n",
    "\n",
    "#self keyword is for pointing the created object"
   ]
  },
  {
   "cell_type": "code",
   "execution_count": 151,
   "id": "a0ba28ab",
   "metadata": {},
   "outputs": [
    {
     "name": "stdout",
     "output_type": "stream",
     "text": [
      "sugar 22\n"
     ]
    },
    {
     "data": {
      "text/plain": [
       "'sugar'"
      ]
     },
     "execution_count": 151,
     "metadata": {},
     "output_type": "execute_result"
    }
   ],
   "source": [
    "class SuperMarket:\n",
    "    discount=0.4\n",
    "    def __init__(self,name,price):\n",
    "        self.name=name\n",
    "        self.price=price\n",
    "    def get_product_details(self):\n",
    "        print(self.name,self.price)\n",
    "    \n",
    "product1=SuperMarket('sugar',22)\n",
    "product2=SuperMarket(\"salt\",55)\n",
    "\n",
    "product1.get_product_details()\n",
    "\n",
    "product1.discount\n",
    "product1.name\n"
   ]
  },
  {
   "cell_type": "code",
   "execution_count": 156,
   "id": "53bef1dd",
   "metadata": {},
   "outputs": [
    {
     "name": "stdout",
     "output_type": "stream",
     "text": [
      "book deleted\n"
     ]
    }
   ],
   "source": [
    "#some builtin functions\n",
    "\n",
    "class Book():\n",
    "    def __init__(self,name):\n",
    "        self.name=name\n",
    "    def __str__(self):\n",
    "        return self.name\n",
    "    def __len__(self):\n",
    "        return self.name\n",
    "    def __del__(self):\n",
    "        print(\"book deleted\")\n",
    "\n",
    "Book1=Book(\"hello\")\n",
    "# Book1.__del__()\n"
   ]
  },
  {
   "cell_type": "code",
   "execution_count": 158,
   "id": "ef0a24e0",
   "metadata": {},
   "outputs": [
    {
     "name": "stdout",
     "output_type": "stream",
     "text": [
      "animal created\n",
      "im animal class\n",
      "im dog\n"
     ]
    }
   ],
   "source": [
    "#Inheritance - inherits the properties of the another class - we use for reusability and reduce complexity\n",
    "\n",
    "class Animal():\n",
    "    def __init__(self):\n",
    "        print(\"animal created\")\n",
    "    def whoAmI(self):\n",
    "        print(\"im animal class\")\n",
    "\n",
    "\n",
    "class Dog(Animal):\n",
    "    def __init__(self):\n",
    "        Animal.__init__(self)\n",
    "    def whoami(self):\n",
    "        print(\"im dog\")\n",
    "\n",
    "dog= Dog()\n",
    "\n",
    "dog.whoAmI()\n",
    "dog.whoami()"
   ]
  },
  {
   "cell_type": "code",
   "execution_count": 162,
   "id": "2928e689",
   "metadata": {},
   "outputs": [
    {
     "name": "stdout",
     "output_type": "stream",
     "text": [
      "animal created\n",
      "im animal class\n",
      "im horse\n"
     ]
    }
   ],
   "source": [
    "class Horse(Animal):\n",
    "    def __init__(self):\n",
    "        super().__init__()\n",
    "    def Horse(self):\n",
    "        print(\"im horse\")\n",
    "\n",
    "horse=Horse()\n",
    "horse.whoAmI()\n",
    "horse.Horse()\n"
   ]
  },
  {
   "cell_type": "code",
   "execution_count": 164,
   "id": "4d0bea56",
   "metadata": {},
   "outputs": [
    {
     "name": "stdout",
     "output_type": "stream",
     "text": [
      "sss 45\n",
      "rrr 55\n"
     ]
    }
   ],
   "source": [
    "##Polymorphism\n",
    "#different object classes use the same method name\n",
    "\n",
    "class Book():\n",
    "    def __init__(self,name,price):\n",
    "        self.name=name\n",
    "        self.price=price\n",
    "    def Book_details(self):\n",
    "        print(self.name, self.price)\n",
    "\n",
    "class BOOklibrary():\n",
    "    def __init__(self,name,price):\n",
    "        self.name=name\n",
    "        self.price=price\n",
    "    def Book_details(self):\n",
    "        print(self.name,self.price)\n",
    "\n",
    "B1=BOOklibrary(\"sss\",45)\n",
    "B2=Book('rrr',55)\n",
    "\n",
    "B1.Book_details()\n",
    "B2.Book_details()"
   ]
  },
  {
   "cell_type": "code",
   "execution_count": 165,
   "id": "6d914698",
   "metadata": {},
   "outputs": [],
   "source": [
    "#if it is a structured programming language everything is implemented in function\n",
    "#if it is oops everything is implemented in objects and class\n",
    "\n",
    "#class,objects,Abstraction, Encapsulation, Inheritance, Polymorphism\n",
    "\n",
    "#Abstraction - hiding the implementation details showing essential part\n",
    "#encapsulation - protect the information , binding the data and function into a single entity\n",
    "#public - Accessed by any function in a class\n",
    "#private - accessed by only class\n",
    "#protected - accessed by only class or class inherited \n",
    "\n"
   ]
  },
  {
   "cell_type": "code",
   "execution_count": null,
   "id": "264612b5",
   "metadata": {},
   "outputs": [
    {
     "name": "stdout",
     "output_type": "stream",
     "text": [
      "child\n",
      "parent\n"
     ]
    }
   ],
   "source": [
    "#inheritance  - single inheritance (father to child)\n",
    "#multilevel Inheritance (gp -father - child)\n",
    "#Hierrachical inheritance (father to child 1 and 2)\n",
    "#multiple inheritance(faTHER AND  MOTHER TO CHILD)\n",
    "\n",
    "#single inheritance (father to child)\n",
    "class Father:\n",
    "    def fdisplay(self):\n",
    "        print(\"parent\")\n",
    "\n",
    "class child(Father):\n",
    "    def cdisplay(self):\n",
    "        print(\"child\")\n",
    "\n",
    "c1=child()\n",
    "c1.cdisplay()\n",
    "c1.fdisplay()\n",
    "\n"
   ]
  },
  {
   "cell_type": "code",
   "execution_count": 168,
   "id": "424be2ee",
   "metadata": {},
   "outputs": [
    {
     "name": "stdout",
     "output_type": "stream",
     "text": [
      "gpa\n",
      "father\n",
      "child\n"
     ]
    }
   ],
   "source": [
    "#multilevel Inheritance (gp -father - child)\n",
    "\n",
    "class Gpa:\n",
    "    def gpdisplay(self):\n",
    "        print(\"gpa\")\n",
    "class father(Gpa):\n",
    "    def fdisplay(self):\n",
    "        print(\"father\")\n",
    "class child(father):\n",
    "    def cdisplay(self):\n",
    "        print(\"child\")\n",
    "c=child()\n",
    "c.gpdisplay()\n",
    "c.fdisplay()\n",
    "c.cdisplay()"
   ]
  },
  {
   "cell_type": "code",
   "execution_count": 170,
   "id": "d1b8d19f",
   "metadata": {},
   "outputs": [
    {
     "name": "stdout",
     "output_type": "stream",
     "text": [
      "father\n",
      "child2\n"
     ]
    }
   ],
   "source": [
    "#Hierrachical inheritance (father to child 1 and 2)\n",
    "\n",
    "class father():\n",
    "    def fdisplay(self):\n",
    "        print(\"father\")\n",
    "        \n",
    "class child1(father):\n",
    "    def cdisplay1(self):\n",
    "        print(\"child1\")\n",
    "\n",
    "class child2(father):\n",
    "    def cdisplay2(self):\n",
    "        print(\"child2\")\n",
    "c1=child1()\n",
    "c1.fdisplay()\n",
    "c2=child2()\n",
    "c2.cdisplay2()"
   ]
  },
  {
   "cell_type": "code",
   "execution_count": 172,
   "id": "6b08cadc",
   "metadata": {},
   "outputs": [
    {
     "name": "stdout",
     "output_type": "stream",
     "text": [
      "mother\n",
      "father\n"
     ]
    }
   ],
   "source": [
    "#multiple inheritance(faTHER AND  MOTHER TO CHILD)\n",
    "\n",
    "class father():\n",
    "    def fdisplay(self):\n",
    "        print(\"father\")\n",
    "class mother():\n",
    "    def mdisplay(self):\n",
    "        print(\"mother\")\n",
    "\n",
    "class child1(father,mother):\n",
    "    def cdisplay1(self):\n",
    "        print(\"child1\")   \n",
    "c1=child1()\n",
    "c1.mdisplay()\n",
    "c1.fdisplay()  "
   ]
  },
  {
   "cell_type": "code",
   "execution_count": null,
   "id": "003bbbda",
   "metadata": {},
   "outputs": [
    {
     "ename": "AttributeError",
     "evalue": "'Encap' object has no attribute '__display'",
     "output_type": "error",
     "traceback": [
      "\u001b[0;31m---------------------------------------------------------------------------\u001b[0m",
      "\u001b[0;31mAttributeError\u001b[0m                            Traceback (most recent call last)",
      "Cell \u001b[0;32mIn[178], line 12\u001b[0m\n\u001b[1;32m      9\u001b[0m         \u001b[38;5;28mprint\u001b[39m(\u001b[38;5;124m\"\u001b[39m\u001b[38;5;124mprivate\u001b[39m\u001b[38;5;124m\"\u001b[39m)\n\u001b[1;32m     10\u001b[0m obj\u001b[38;5;241m=\u001b[39mEncap()\n\u001b[0;32m---> 12\u001b[0m \u001b[43mobj\u001b[49m\u001b[38;5;241;43m.\u001b[39;49m\u001b[43m__display\u001b[49m()\n",
      "\u001b[0;31mAttributeError\u001b[0m: 'Encap' object has no attribute '__display'"
     ]
    }
   ],
   "source": [
    "#encapsulation - protect the information , binding the data and function into a single entity\n",
    "#public - Accessed by any function in a class\n",
    "#private - accessed by only class\n",
    "#protected - accessed by only class or class inherited \n",
    "\n",
    "class Encap():\n",
    "    __a=10\n",
    "    def __display(self):\n",
    "        print(\"private\")\n",
    "obj=Encap()\n",
    "print(obj.__a)\n",
    "obj.__display()\n",
    "\n",
    "##cannot access outside the class"
   ]
  },
  {
   "cell_type": "code",
   "execution_count": 179,
   "id": "a5ba6bb8",
   "metadata": {},
   "outputs": [
    {
     "ename": "TypeError",
     "evalue": "Can't instantiate abstract class Abstarct with abstract method show",
     "output_type": "error",
     "traceback": [
      "\u001b[0;31m---------------------------------------------------------------------------\u001b[0m",
      "\u001b[0;31mTypeError\u001b[0m                                 Traceback (most recent call last)",
      "Cell \u001b[0;32mIn[179], line 16\u001b[0m\n\u001b[1;32m     12\u001b[0m     \u001b[38;5;129m@abstractmethod\u001b[39m\n\u001b[1;32m     13\u001b[0m     \u001b[38;5;28;01mdef\u001b[39;00m\u001b[38;5;250m \u001b[39m\u001b[38;5;21mshow\u001b[39m(\u001b[38;5;28mself\u001b[39m):\n\u001b[1;32m     14\u001b[0m         \u001b[38;5;28mprint\u001b[39m(\u001b[38;5;124m\"\u001b[39m\u001b[38;5;124mthis is the abstract method\u001b[39m\u001b[38;5;124m\"\u001b[39m)\n\u001b[0;32m---> 16\u001b[0m a\u001b[38;5;241m=\u001b[39m\u001b[43mAbstarct\u001b[49m\u001b[43m(\u001b[49m\u001b[43m)\u001b[49m\n",
      "\u001b[0;31mTypeError\u001b[0m: Can't instantiate abstract class Abstarct with abstract method show"
     ]
    }
   ],
   "source": [
    "#Abstraction \n",
    "#abstract class -> which have abstract methods\n",
    "#abstract methods -> method with declaration but not the definition\n",
    "#concrete class -> class without abstarct methods\n",
    "#object cant be instantiated for abstract class\n",
    "\n",
    "# concrete class can inherit the abstract and implement the abstarct method available in abstarct class\n",
    "\n",
    "from abc import ABC, abstractmethod\n",
    "\n",
    "class Abstarct(ABC):\n",
    "    @abstractmethod\n",
    "    def show(self):\n",
    "        print(\"this is the abstract method\")\n",
    "\n",
    "a=Abstarct()"
   ]
  },
  {
   "cell_type": "code",
   "execution_count": 180,
   "id": "0aa575dc",
   "metadata": {},
   "outputs": [
    {
     "name": "stdout",
     "output_type": "stream",
     "text": [
      "show\n"
     ]
    }
   ],
   "source": [
    "class demo(Abstarct):\n",
    "    def show(self):\n",
    "        print(\"show\")\n",
    "\n",
    "d=demo()\n",
    "d.show()"
   ]
  },
  {
   "cell_type": "code",
   "execution_count": 186,
   "id": "83801db6",
   "metadata": {},
   "outputs": [
    {
     "name": "stdout",
     "output_type": "stream",
     "text": [
      "sss 45\n",
      "rrr 55\n"
     ]
    }
   ],
   "source": [
    "###polymorphism \n",
    "#method overloading - method name should be the same but arguments defer\n",
    "#method overriding - method name an arguments same for any classes\n",
    "\n",
    "#method overloading \n",
    "class poly():\n",
    "    def sum11(self,a=None,b=None):\n",
    "        return a,b\n",
    "\n",
    "p=poly()\n",
    "p.sum11()\n",
    "p.sum11(1)\n",
    "p.sum11(1,2)\n",
    "\n",
    "#method overriding \n",
    "\n",
    "\n",
    "class Book():\n",
    "    def __init__(self,name,price):\n",
    "        self.name=name\n",
    "        self.price=price\n",
    "    def Book_details(self):\n",
    "        print(self.name, self.price)\n",
    "\n",
    "class BOOklibrary():\n",
    "    def __init__(self,name,price):\n",
    "        self.name=name\n",
    "        self.price=price\n",
    "    def Book_details(self):\n",
    "        print(self.name,self.price)\n",
    "\n",
    "B1=BOOklibrary(\"sss\",45)\n",
    "B2=Book('rrr',55)\n",
    "\n",
    "B1.Book_details()\n",
    "B2.Book_details()"
   ]
  },
  {
   "cell_type": "code",
   "execution_count": 187,
   "id": "e9f8f279",
   "metadata": {},
   "outputs": [
    {
     "name": "stdout",
     "output_type": "stream",
     "text": [
      "20\n"
     ]
    }
   ],
   "source": [
    "#Try: This is the block of code to be attempted(may lead to an error)\n",
    "#Except:block of code will execute in case there is an error in try block\n",
    "#Finally: A final block of code to be executed ,regardless of error\n",
    "\n",
    "try:\n",
    "    a=10+10\n",
    "except:\n",
    "    print(\"error\")\n",
    "else:\n",
    "    print(a)"
   ]
  },
  {
   "cell_type": "code",
   "execution_count": 190,
   "id": "b3d4a90f",
   "metadata": {},
   "outputs": [
    {
     "name": "stdout",
     "output_type": "stream",
     "text": [
      " typeerror\n",
      "i always run\n"
     ]
    }
   ],
   "source": [
    "try:\n",
    "    a=10+'err'\n",
    "except TypeError:\n",
    "    print(\" typeerror\")\n",
    "except OSError:\n",
    "    print(\"OSError\")\n",
    "else:\n",
    "    print(a)\n",
    "finally:\n",
    "    print('i always run')"
   ]
  },
  {
   "cell_type": "code",
   "execution_count": 192,
   "id": "601b97c0",
   "metadata": {},
   "outputs": [],
   "source": [
    "#decorators allow you to decorate a function\n",
    "#that allow you to take extra functionality to the exisiting function\n",
    "#with @ operator\n",
    "\n",
    "def im_a_decorator(original_func):\n",
    "    def wrap_func():\n",
    "        print(\"first\")\n",
    "        original_func()\n",
    "        print(\"last line\")\n",
    "    return wrap_func()"
   ]
  },
  {
   "cell_type": "code",
   "execution_count": 194,
   "id": "6c662205",
   "metadata": {},
   "outputs": [
    {
     "name": "stdout",
     "output_type": "stream",
     "text": [
      "first\n",
      "im original funct\n",
      "last line\n"
     ]
    }
   ],
   "source": [
    "@im_a_decorator\n",
    "def i_need_decortor():\n",
    "    print(\"im original funct\")"
   ]
  },
  {
   "cell_type": "code",
   "execution_count": 195,
   "id": "9a0d947d",
   "metadata": {},
   "outputs": [
    {
     "data": {
      "text/plain": [
       "<generator object thrice at 0x107096ba0>"
      ]
     },
     "execution_count": 195,
     "metadata": {},
     "output_type": "execute_result"
    }
   ],
   "source": [
    "#generator allows us to create a sequence of values over time instead of creating and holding in the memorey\n",
    "#The advantage is that instead of haaving to compute an entire series of values up front ,the generator computes one value waits until next value is called for\n",
    "\n",
    "def thrice():\n",
    "    for i in range(1,10):\n",
    "        yield i*3\n",
    "thrice()"
   ]
  },
  {
   "cell_type": "code",
   "execution_count": 196,
   "id": "94b62919",
   "metadata": {},
   "outputs": [
    {
     "name": "stdout",
     "output_type": "stream",
     "text": [
      "3\n",
      "6\n",
      "9\n",
      "12\n",
      "15\n",
      "18\n",
      "21\n",
      "24\n",
      "27\n"
     ]
    }
   ],
   "source": [
    "for i in thrice():\n",
    "    print(i)"
   ]
  },
  {
   "cell_type": "code",
   "execution_count": 197,
   "id": "85e9def5",
   "metadata": {},
   "outputs": [],
   "source": [
    "#next function \n",
    "g=thrice()"
   ]
  },
  {
   "cell_type": "code",
   "execution_count": 198,
   "id": "7bebc9d0",
   "metadata": {},
   "outputs": [
    {
     "data": {
      "text/plain": [
       "3"
      ]
     },
     "execution_count": 198,
     "metadata": {},
     "output_type": "execute_result"
    }
   ],
   "source": [
    "next(g)"
   ]
  },
  {
   "cell_type": "code",
   "execution_count": 199,
   "id": "a77b7d86",
   "metadata": {},
   "outputs": [
    {
     "data": {
      "text/plain": [
       "6"
      ]
     },
     "execution_count": 199,
     "metadata": {},
     "output_type": "execute_result"
    }
   ],
   "source": [
    "next(g)"
   ]
  },
  {
   "cell_type": "code",
   "execution_count": 200,
   "id": "3dbccf94",
   "metadata": {},
   "outputs": [],
   "source": [
    "#changing the string to generator\n",
    "\n",
    "s=\"hello\"\n",
    "s_iter=iter(s)"
   ]
  },
  {
   "cell_type": "code",
   "execution_count": 202,
   "id": "0835ce43",
   "metadata": {},
   "outputs": [
    {
     "data": {
      "text/plain": [
       "'h'"
      ]
     },
     "execution_count": 202,
     "metadata": {},
     "output_type": "execute_result"
    }
   ],
   "source": [
    "next(s_iter)"
   ]
  },
  {
   "cell_type": "code",
   "execution_count": null,
   "id": "c110d0f1",
   "metadata": {},
   "outputs": [
    {
     "name": "stdout",
     "output_type": "stream",
     "text": [
      "<generator object <genexpr> at 0x1070b3580>\n"
     ]
    }
   ],
   "source": [
    "#generator comprehension\n",
    "\n",
    "g=(x for x in range(1,10))\n",
    "print(g)\n"
   ]
  },
  {
   "cell_type": "code",
   "execution_count": 208,
   "id": "352fe273",
   "metadata": {},
   "outputs": [
    {
     "data": {
      "text/plain": [
       "[('Hi', 1), ('im', 1), ('SUbitha', 1)]"
      ]
     },
     "execution_count": 208,
     "metadata": {},
     "output_type": "execute_result"
    }
   ],
   "source": [
    "from collections import Counter\n",
    "\n",
    "mylist=[1,1,1,1,1,2,22,2]\n",
    "\n",
    "Counter(mylist)\n",
    "\n",
    "Counter(\"ssdoeioreufidsfhi\")\n",
    "\n",
    "Counter(\"Hi im SUbitha\".split()).most_common()"
   ]
  },
  {
   "cell_type": "code",
   "execution_count": 216,
   "id": "f8299f8c",
   "metadata": {},
   "outputs": [
    {
     "name": "stdout",
     "output_type": "stream",
     "text": [
      "(4, 9)\n",
      "(13, 18)\n"
     ]
    }
   ],
   "source": [
    "#regex\n",
    "\n",
    "import re\n",
    "text=\"the phone is phone\"\n",
    "pattern=\"phone\"\n",
    "c=re.search(pattern,text)\n",
    "c.span()\n",
    "c.start()\n",
    "c.end()\n",
    "\n",
    "re.findall(pattern,text)\n",
    "\n",
    "for match in re.finditer(pattern,text):\n",
    "    print(match.span())"
   ]
  },
  {
   "cell_type": "code",
   "execution_count": 217,
   "id": "721eb990",
   "metadata": {},
   "outputs": [
    {
     "data": {
      "text/plain": [
       "<re.Match object; span=(0, 11), match='123-000-999'>"
      ]
     },
     "execution_count": 217,
     "metadata": {},
     "output_type": "execute_result"
    }
   ],
   "source": [
    "pattern=r'(\\d{3})-(\\d{3})-(\\d{3})'\n",
    "text=\"123-000-999 is the phone\"\n",
    "re.search(pattern,text)"
   ]
  },
  {
   "cell_type": "code",
   "execution_count": 218,
   "id": "083fe360",
   "metadata": {},
   "outputs": [
    {
     "data": {
      "text/plain": [
       "<re.Match object; span=(3, 9), match=' women'>"
      ]
     },
     "execution_count": 218,
     "metadata": {},
     "output_type": "execute_result"
    }
   ],
   "source": [
    "re.search(r'man | women',\"the women and man was there\")"
   ]
  },
  {
   "cell_type": "code",
   "execution_count": 219,
   "id": "86a85df4",
   "metadata": {},
   "outputs": [
    {
     "data": {
      "text/plain": [
       "['cat', 'lat']"
      ]
     },
     "execution_count": 219,
     "metadata": {},
     "output_type": "execute_result"
    }
   ],
   "source": [
    "#wildcard\n",
    "re.findall(r'.at',\"the cat lat\")"
   ]
  },
  {
   "cell_type": "code",
   "execution_count": null,
   "id": "99848b6f",
   "metadata": {},
   "outputs": [
    {
     "data": {
      "text/plain": [
       "['3']"
      ]
     },
     "execution_count": 220,
     "metadata": {},
     "output_type": "execute_result"
    }
   ],
   "source": [
    "re.findall(r'^\\d','3 is the num 2') #starts with"
   ]
  },
  {
   "cell_type": "code",
   "execution_count": 221,
   "id": "77e3c538",
   "metadata": {},
   "outputs": [
    {
     "data": {
      "text/plain": [
       "['2']"
      ]
     },
     "execution_count": 221,
     "metadata": {},
     "output_type": "execute_result"
    }
   ],
   "source": [
    "re.findall(r'\\d$', 'the num is 2')"
   ]
  },
  {
   "cell_type": "code",
   "execution_count": 225,
   "id": "b7e8258a",
   "metadata": {},
   "outputs": [
    {
     "data": {
      "text/plain": [
       "'ther    ofjgjd'"
      ]
     },
     "execution_count": 225,
     "metadata": {},
     "output_type": "execute_result"
    }
   ],
   "source": [
    "#exclude\n",
    "mylist=re.findall(r'[^\\d]+',\"ther 4 3 23 ofjgjd\")\n",
    "''.join(mylist)"
   ]
  },
  {
   "cell_type": "code",
   "execution_count": null,
   "id": "937126e7",
   "metadata": {},
   "outputs": [
    {
     "name": "stdout",
     "output_type": "stream",
     "text": [
      "hi\n",
      "hi\n",
      "hi\n",
      "hi\n",
      "hi\n"
     ]
    }
   ],
   "source": [
    "#multithreading\n",
    "#breakdown the larger task into light weight process each part is called thread\n",
    "\n",
    "from time import sleep\n",
    "from threading import *\n",
    "\n",
    "class Hello(Thread):\n",
    "    def run(self):\n",
    "        for i in range(5):\n",
    "            print(\"hello\")\n",
    "            sleep(1)\n",
    "\n",
    "class Hi(Thread):\n",
    "    def run(self):\n",
    "        for i in range(5):\n",
    "            print(\"hi\")\n",
    "            sleep(1)         \n",
    "\n",
    "t1=Hello()\n",
    "t2=Hi()\n",
    "\n",
    "t1.start()\n",
    "sleep(0.2)\n",
    "t2.start()\n",
    "\n",
    "#ask main thread to wait till completion\n",
    "t1.join()\n",
    "t2.join()"
   ]
  },
  {
   "cell_type": "code",
   "execution_count": 232,
   "id": "6f0087cd",
   "metadata": {},
   "outputs": [
    {
     "name": "stdout",
     "output_type": "stream",
     "text": [
      "Requirement already satisfied: fastapi in /opt/anaconda3/envs/LLM_Projects/lib/python3.9/site-packages (0.115.9)\n",
      "Requirement already satisfied: starlette<0.46.0,>=0.40.0 in /opt/anaconda3/envs/LLM_Projects/lib/python3.9/site-packages (from fastapi) (0.41.3)\n",
      "Requirement already satisfied: pydantic!=1.8,!=1.8.1,!=2.0.0,!=2.0.1,!=2.1.0,<3.0.0,>=1.7.4 in /opt/anaconda3/envs/LLM_Projects/lib/python3.9/site-packages (from fastapi) (2.9.2)\n",
      "Requirement already satisfied: typing-extensions>=4.8.0 in /opt/anaconda3/envs/LLM_Projects/lib/python3.9/site-packages (from fastapi) (4.12.2)\n",
      "Requirement already satisfied: annotated-types>=0.6.0 in /opt/anaconda3/envs/LLM_Projects/lib/python3.9/site-packages (from pydantic!=1.8,!=1.8.1,!=2.0.0,!=2.0.1,!=2.1.0,<3.0.0,>=1.7.4->fastapi) (0.7.0)\n",
      "Requirement already satisfied: pydantic-core==2.23.4 in /opt/anaconda3/envs/LLM_Projects/lib/python3.9/site-packages (from pydantic!=1.8,!=1.8.1,!=2.0.0,!=2.0.1,!=2.1.0,<3.0.0,>=1.7.4->fastapi) (2.23.4)\n",
      "Requirement already satisfied: anyio<5,>=3.4.0 in /opt/anaconda3/envs/LLM_Projects/lib/python3.9/site-packages (from starlette<0.46.0,>=0.40.0->fastapi) (4.8.0)\n",
      "Requirement already satisfied: exceptiongroup>=1.0.2 in /opt/anaconda3/envs/LLM_Projects/lib/python3.9/site-packages (from anyio<5,>=3.4.0->starlette<0.46.0,>=0.40.0->fastapi) (1.2.2)\n",
      "Requirement already satisfied: idna>=2.8 in /opt/anaconda3/envs/LLM_Projects/lib/python3.9/site-packages (from anyio<5,>=3.4.0->starlette<0.46.0,>=0.40.0->fastapi) (3.10)\n",
      "Requirement already satisfied: sniffio>=1.1 in /opt/anaconda3/envs/LLM_Projects/lib/python3.9/site-packages (from anyio<5,>=3.4.0->starlette<0.46.0,>=0.40.0->fastapi) (1.3.1)\n"
     ]
    }
   ],
   "source": [
    "!pip install fastapi"
   ]
  },
  {
   "cell_type": "code",
   "execution_count": 233,
   "id": "53b97858",
   "metadata": {},
   "outputs": [
    {
     "name": "stdout",
     "output_type": "stream",
     "text": [
      "Requirement already satisfied: uvicorn in /opt/anaconda3/envs/LLM_Projects/lib/python3.9/site-packages (0.34.0)\n",
      "Requirement already satisfied: click>=7.0 in /opt/anaconda3/envs/LLM_Projects/lib/python3.9/site-packages (from uvicorn) (8.1.8)\n",
      "Requirement already satisfied: h11>=0.8 in /opt/anaconda3/envs/LLM_Projects/lib/python3.9/site-packages (from uvicorn) (0.14.0)\n",
      "Requirement already satisfied: typing-extensions>=4.0 in /opt/anaconda3/envs/LLM_Projects/lib/python3.9/site-packages (from uvicorn) (4.12.2)\n"
     ]
    }
   ],
   "source": [
    "!pip install uvicorn"
   ]
  },
  {
   "cell_type": "code",
   "execution_count": 237,
   "id": "a62e26e5",
   "metadata": {},
   "outputs": [],
   "source": [
    "from fastapi import FastAPI\n",
    "\n",
    "app=FastAPI()\n",
    "\n",
    "@app.get(\"/hello\")\n",
    "async def hello():\n",
    "    return \"welcome\""
   ]
  },
  {
   "cell_type": "code",
   "execution_count": null,
   "id": "4666bb9e",
   "metadata": {},
   "outputs": [
    {
     "name": "stdout",
     "output_type": "stream",
     "text": [
      "<class 'str'>\n"
     ]
    }
   ],
   "source": [
    "#working with json \n",
    "\n",
    "#java script object notation is lightweight format compared to xml\n",
    "\n",
    "book={\n",
    "}\n",
    "\n",
    "\n",
    "book[\"subitha\"]  =  {\n",
    "      \"name\": \"Subitha\",\n",
    "      \"age\": 25,\n",
    "      \"isStudent\": True\n",
    "    }\n",
    "\n",
    "book[\"anika\"]={\n",
    "      \"name\": \"Anika\",\n",
    "      \"age\": 27,\n",
    "      \"isStudent\": False\n",
    "    }\n",
    "\n",
    "import json\n",
    "s=json.dumps(book) #dumping as string\n",
    "print(type(s))\n",
    "with open(\"json.txt\",'w') as f:\n",
    "    f.write(s)\n",
    "\n",
    "\n"
   ]
  },
  {
   "cell_type": "code",
   "execution_count": 251,
   "id": "1126a970",
   "metadata": {},
   "outputs": [
    {
     "name": "stdout",
     "output_type": "stream",
     "text": [
      "{\"subitha\": {\"name\": \"Subitha\", \"age\": 25, \"isStudent\": true}, \"anika\": {\"name\": \"Anika\", \"age\": 27, \"isStudent\": false}}\n"
     ]
    }
   ],
   "source": [
    "\n",
    "with open(\"json.txt\",'r') as f:\n",
    "    print(f.read())\n",
    "    s=f.read()\n"
   ]
  },
  {
   "cell_type": "code",
   "execution_count": 253,
   "id": "1f263dbe",
   "metadata": {},
   "outputs": [
    {
     "data": {
      "text/plain": [
       "dict"
      ]
     },
     "execution_count": 253,
     "metadata": {},
     "output_type": "execute_result"
    }
   ],
   "source": [
    "import json\n",
    "\n",
    "f=open(\"json.txt\",'r')\n",
    "s=f.read()\n",
    "book=json.loads(s) #loads str as dict\n",
    "type(book)"
   ]
  },
  {
   "cell_type": "code",
   "execution_count": 255,
   "id": "9b3e1944",
   "metadata": {},
   "outputs": [
    {
     "data": {
      "text/plain": [
       "25"
      ]
     },
     "execution_count": 255,
     "metadata": {},
     "output_type": "execute_result"
    }
   ],
   "source": [
    "book['subitha']['age']"
   ]
  },
  {
   "cell_type": "code",
   "execution_count": 257,
   "id": "33a7c462",
   "metadata": {},
   "outputs": [
    {
     "name": "stdout",
     "output_type": "stream",
     "text": [
      "{'name': 'Subitha', 'age': 25, 'isStudent': True}\n",
      "{'name': 'Anika', 'age': 27, 'isStudent': False}\n"
     ]
    }
   ],
   "source": [
    "for person in book:\n",
    "    print(book[person])"
   ]
  },
  {
   "cell_type": "code",
   "execution_count": null,
   "id": "b8b2fbb5",
   "metadata": {},
   "outputs": [],
   "source": []
  }
 ],
 "metadata": {
  "kernelspec": {
   "display_name": "LLM_Projects",
   "language": "python",
   "name": "python3"
  },
  "language_info": {
   "codemirror_mode": {
    "name": "ipython",
    "version": 3
   },
   "file_extension": ".py",
   "mimetype": "text/x-python",
   "name": "python",
   "nbconvert_exporter": "python",
   "pygments_lexer": "ipython3",
   "version": "3.9.21"
  }
 },
 "nbformat": 4,
 "nbformat_minor": 5
}
